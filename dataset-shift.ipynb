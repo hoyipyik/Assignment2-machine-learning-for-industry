{
 "cells": [
  {
   "cell_type": "markdown",
   "id": "286495c6",
   "metadata": {},
   "source": [
    "# Dataset shift\n",
    "\n",
    "**Background**\n",
    "\n",
    "In the previous assignment you have worked with wafer map data from a semiconductor manufacturing process, and developed a calibrated binary classifier for identifying whether a finished wafer contains a known pattern of faulty chips.\n",
    "\n",
    "Imagine the company has evaluated several classifiers and deployed one of them in production, as part of a larger system for identifying the root causes of faulty chips. The root cause analysis relies on the expertise of human operators. When the root cause of faulty chips on a wafer can be identified, the process parameters can be adjusted, reducing the number of faulty chips and increasing wafer yield.\n",
    "\n",
    "Ideally, the company would like all wafers to be analyzed by the operators, however, their capacity is limited. Therefore, the classifier is used as part of a filtering stage to select wafers for further analysis by the operators, based on whether the wafers contain a known pattern of faulty chips.\n",
    "\n",
    "One month after deploying the classifier, the company observes degrading wafer yield. They think it is due to a drop in classification performance of the classifier: misclassifying wafers that are suitable for further analysis will prevent the operators from identifying the root causes of faulty chips and adapting the process parameters, resulting in more faults and lower yield. They suspect it may be related to a recent change of a process parameter at one of the manufacturing stages.\n",
    "\n",
    "**Assignment**\n",
    "\n",
    "You are given three datasets:\n",
    "- a labeled *training* set that represents the data used to train the classifier,\n",
    "- a partially labeled *production* set representing the data collected after the model was deployed in production.\n",
    "- an unlabeled *leaderboard* set representing the data collected after the *production* set.\n",
    "\n",
    "All datasets are based on the WM-811K dataset containing annotated wafer maps collected from real-world fabrication (see `./data/readme.txt`).\n",
    "\n",
    "You are also given the implementation of the deployed classifier.\n",
    "\n",
    "Your task is to check if a distribution shift may have caused the deployed classifier to drop in predictive performance, and to improve the predictive performance of the classifier.\n",
    "\n",
    "Throughout this notebook you will find cells starting with `# // BEGIN_TODO` and `# // END_TODO` tags.\n",
    "\n",
    "- Fill in all your code between these `# // BEGIN_TODO` and `# // END_TODO` tags.\n",
    "- Do not edit these tags in any way, or else your answers may not be processed by the grading system.\n",
    "- You can add as many code and text cells as you want between the `# // BEGIN_TODO` and `# // END_TODO` tags to make your code nicely readable.\n",
    "- You are free to use any libraries listed in the Hints section on Canvas, but make sure you import all your libraries between the `# // BEGIN_TODO` and `# // END_TODO` tags.\n",
    "\n",
    "You are encouraged to play with the data and extend this notebook in order to obtain your answers. You may insert cells at any point in the notebook, but remember:\n",
    "<br/><br/>\n",
    "<div style=\"padding: 15px; border: 1px solid transparent; border-color: transparent; margin-bottom: 20px; border-radius: 4px; color: #a94442; background-color: #f2dede; border-color: #ebccd1;\n",
    "\">\n",
    "Only the code in your answer cells (i.e. between `# // BEGIN_TODO` and `# // END_TODO`) will be extracted and evaluated.\n",
    "</div>\n",
    "\n",
    "<div style=\"padding: 15px; border: 1px solid transparent; border-color: transparent; margin-bottom: 20px; border-radius: 4px; color: #a94442; background-color: #f2dede; border-color: #ebccd1;\n",
    "\">\n",
    "Before delivering your notebook, make sure that the cells in your notebook can be executed in sequence without errors, by executing \"Restart & Run All\" from the \"Kernel\" menu.\n",
    "</div>\n",
    "\n",
    "Let's get started by filling in your details in the following answer cell. Assign your group number, your names and student ids to variables `group_number`, `name_student1`, `id_student1`, `name_student2`, `id_student2`, e.g.:\n",
    "\n",
    "```\n",
    "# // BEGIN_TODO [AUTHOR]\n",
    "group_number = 9\n",
    "name_student1 = \"John Smith\"\n",
    "id_student1 = \"1234567\"\n",
    "name_student2 = \"Jane Miller\"\n",
    "id_student2 = \"7654321\"\n",
    "# // END_TODO [AUTHOR]\n",
    "```"
   ]
  },
  {
   "cell_type": "code",
   "execution_count": 47,
   "id": "dfd5121d",
   "metadata": {},
   "outputs": [],
   "source": [
    "#// BEGIN_TODO [AUTHOR]\n",
    "\n",
    "group_number = 9\n",
    "name_student1 = \"Xiaotan Chen\"\n",
    "id_student1 = \"2035413\"\n",
    "name_student2 = \"Yeyi He\"\n",
    "id_student2 = \"1947567\"\n",
    "\n",
    "#// END_TODO [AUTHOR]"
   ]
  },
  {
   "cell_type": "markdown",
   "id": "f5849978",
   "metadata": {},
   "source": [
    "## Import libraries\n",
    "\n",
    "You are free to use any libraries listed in the Hints section on Canvas, but make sure you import all your libraries between the `# // BEGIN_TODO` and `# // END_TODO` tags below."
   ]
  },
  {
   "cell_type": "code",
   "execution_count": 48,
   "id": "3514b63e",
   "metadata": {},
   "outputs": [],
   "source": [
    "import pandas as pd\n",
    "import numpy as np\n",
    "import matplotlib.pyplot as plt\n",
    "import pickle, json\n",
    "\n",
    "import random\n",
    "random.seed(42)\n",
    "np.random.seed(42)"
   ]
  },
  {
   "cell_type": "markdown",
   "id": "91b7c08a",
   "metadata": {},
   "source": [
    "## Load the data\n",
    "\n",
    "The training data, that was used to train the classifier before deployment, resides in the `./data/wafer_training.pkl` pickle file."
   ]
  },
  {
   "cell_type": "code",
   "execution_count": 49,
   "id": "621ad3a6",
   "metadata": {
    "ExecuteTime": {
     "end_time": "2022-10-01T20:02:24.232831Z",
     "start_time": "2022-10-01T20:02:24.116407Z"
    }
   },
   "outputs": [],
   "source": [
    "with open('./data/wafer_training.pkl', 'rb') as f:\n",
    "    X_train, y_train = pickle.load(f)"
   ]
  },
  {
   "cell_type": "code",
   "execution_count": 50,
   "id": "da7213c0",
   "metadata": {},
   "outputs": [
    {
     "name": "stdout",
     "output_type": "stream",
     "text": [
      "<class 'numpy.ndarray'>\n",
      "(4969, 26, 26)\n",
      "<class 'numpy.ndarray'>\n",
      "(4969,)\n"
     ]
    }
   ],
   "source": [
    "print(type(X_train))\n",
    "print(X_train.shape)\n",
    "print(type(y_train))\n",
    "print(y_train.shape)\n"
   ]
  },
  {
   "cell_type": "markdown",
   "id": "a75531fc",
   "metadata": {},
   "source": [
    "`X_train` contains the wafer maps and `y_train` contains the labels. The maps are 26x26 pixels, a pixel of value 0 represents the background, a pixel of value 1 indicates a good chip, and a pixel of value 2 indicates a bad chip. An example of a wafer map is shown below."
   ]
  },
  {
   "cell_type": "code",
   "execution_count": 51,
   "id": "20f2abd3",
   "metadata": {},
   "outputs": [
    {
     "data": {
      "image/png": "[encoded data removed]",
      "text/plain": [
       "<Figure size 200x200 with 1 Axes>"
      ]
     },
     "metadata": {},
     "output_type": "display_data"
    }
   ],
   "source": [
    "fig, axes = plt.subplots(1, figsize = (2,2))\n",
    "plt.imshow(X_train[0]);"
   ]
  },
  {
   "cell_type": "markdown",
   "id": "cf66bb86",
   "metadata": {},
   "source": [
    "The production data, that was collected after the classifier was deployed in production, resides in the `./data/wafer_production.pkl` pickle file."
   ]
  },
  {
   "cell_type": "code",
   "execution_count": 52,
   "id": "f3fc1655",
   "metadata": {},
   "outputs": [],
   "source": [
    "with open('./data/wafer_production.pkl', 'rb') as f:\n",
    "    X_production, y_production = pickle.load(f)"
   ]
  },
  {
   "cell_type": "code",
   "execution_count": 53,
   "id": "a8fd3c4d",
   "metadata": {},
   "outputs": [
    {
     "name": "stdout",
     "output_type": "stream",
     "text": [
      "(10311, 26, 26)\n",
      "(10311,)\n"
     ]
    },
    {
     "data": {
      "text/plain": [
       "array([-1, -1,  0, ..., -1, -1,  0], dtype=int8)"
      ]
     },
     "execution_count": 53,
     "metadata": {},
     "output_type": "execute_result"
    }
   ],
   "source": [
    "print(X_production.shape)\n",
    "print(y_production.shape)\n",
    "y_production"
   ]
  },
  {
   "cell_type": "markdown",
   "id": "add901ea",
   "metadata": {},
   "source": [
    "`X_production` contains the wafer maps and `y_production` contains the labels. The samples are listed in the same order as they were collected.\n",
    "\n",
    "The wafer maps were labeled by human experts according to whether the wafer map contains a known bad chip pattern or not:\n",
    "\n",
    "- 1: a pattern (one of the 8 patterns in the Calibration assignment)\n",
    "- 0: no pattern\n",
    "- -1: unlabeled sample\n",
    "\n",
    "You will observe that `y_production` is only partially labeled, i.e. some samples are unlabeled. You can imagine that labeling is time consuming and expensive process and only a subset was labeled, e.g. for monitoring the performance of the classifier.\n",
    "\n",
    "An example of the wafer map with and without known pattern is shown below."
   ]
  },
  {
   "cell_type": "code",
   "execution_count": 54,
   "id": "837764b4",
   "metadata": {},
   "outputs": [
    {
     "data": {
      "image/png": "[encoded data removed]",
      "text/plain": [
       "<Figure size 600x200 with 2 Axes>"
      ]
     },
     "metadata": {},
     "output_type": "display_data"
    }
   ],
   "source": [
    "unique_classes, class_indexes = np.unique(y_train,return_index=True)\n",
    "class_names = [\"No pattern\", \"Pattern\"]\n",
    "fig, axes = plt.subplots(1,2, figsize = (6,2))\n",
    "for num_index, index in enumerate(class_indexes):\n",
    "    axes[num_index].imshow(X_train[index])\n",
    "    axes[num_index].set_title(class_names[unique_classes[num_index]])\n",
    "    axes[num_index].set_xticks([])\n",
    "    axes[num_index].set_yticks([])"
   ]
  },
  {
   "cell_type": "markdown",
   "id": "7ddb4ba7",
   "metadata": {},
   "source": [
    "## Define the classifier\n",
    "\n",
    "Here is the implementation of the deployed classifier for identifying whether a finished wafer contains a known pattern of faulty chips. It is a random forest classifier, initialized with `random_state=42` for reproducibility."
   ]
  },
  {
   "cell_type": "code",
   "execution_count": 55,
   "id": "9b027045",
   "metadata": {},
   "outputs": [],
   "source": [
    "from sklearn.ensemble import RandomForestClassifier\n",
    "\n",
    "deployed_classifier = RandomForestClassifier(random_state=42)"
   ]
  },
  {
   "cell_type": "markdown",
   "id": "356882ba",
   "metadata": {},
   "source": [
    "## Detect distribution shift\n",
    "\n",
    "The company suspects there is a distribution shift in the `./data/wafer_production.pkl`. Verify this suspicion by identifying at which point in the production a shift (if any) has occured.\n",
    "\n",
    "Assign to the integer variable `distribution_shift_index` the index in the production data where a shift has occured, or `None` if a shift has not occured.\n",
    "\n",
    "Assign a nickname to the string variable `leaderboard_nickname` that will be shown on the leaderboard next to your score. If you do not wat to participate on the leaderboard, set it to `None`."
   ]
  },
  {
   "cell_type": "code",
   "execution_count": 56,
   "id": "a010d37d",
   "metadata": {},
   "outputs": [
    {
     "data": {
      "text/plain": [
       "10"
      ]
     },
     "execution_count": 56,
     "metadata": {},
     "output_type": "execute_result"
    }
   ],
   "source": [
    "#// BEGIN_TODO [SHIFT_DETECTION]\n",
    "\n",
    "#// BEGIN_TODO [PREDICTION]\n",
    "\n",
    "import pickle\n",
    "from sklearn.ensemble import RandomForestClassifier\n",
    "from sklearn.metrics import accuracy_score\n",
    "import numpy as np\n",
    "from scipy.stats import ks_2samp\n",
    "\n",
    "# Reshape the data for compatibility with RandomForestClassifier\n",
    "X_train_flat = X_train.reshape((X_train.shape[0], -1))\n",
    "X_production_flat = X_production.reshape((X_production.shape[0], -1))\n",
    "\n",
    "# Train the classifier\n",
    "deployed_classifier = RandomForestClassifier(random_state=42)\n",
    "deployed_classifier.fit(X_train_flat, y_train)\n",
    "\n",
    "\n",
    "# Predict on the production data where labels are available\n",
    "labeled_indices = y_production != -1\n",
    "X_labeled_production = X_production_flat[labeled_indices]\n",
    "y_labeled_production = y_production[labeled_indices]\n",
    "y_pred_production = deployed_classifier.predict(X_labeled_production)\n",
    "\n",
    "# Calculate accuracy on the labeled production data\n",
    "production_accuracy = accuracy_score(y_labeled_production, y_pred_production)\n",
    "\n",
    "# Monitor accuracy over time\n",
    "distribution_shift_index = None\n",
    "accuracies = []\n",
    "for i in range(1, len(y_labeled_production)):\n",
    "    accuracy = accuracy_score(y_labeled_production[:i], y_pred_production[:i])\n",
    "    accuracies.append(accuracy)\n",
    "\n",
    "# Define some threshold based on expected performance drop\n",
    "some_threshold = 0.1  # This is a placeholder, it needs to be defined based on domain knowledge or historical data\n",
    "\n",
    "# Detect point where accuracy drops significantly\n",
    "for i in range(1, len(accuracies)):\n",
    "    if accuracies[i] < accuracies[i - 1] - some_threshold:\n",
    "        distribution_shift_index = i\n",
    "        break\n",
    "\n",
    "\n",
    "# Perform Kolmogorov-Smirnov test for each feature\n",
    "p_values = []\n",
    "for feature_idx in range(X_train_flat.shape[1]):\n",
    "    stat, p_value = ks_2samp(X_train_flat[:, feature_idx], X_production_flat[:, feature_idx])\n",
    "    p_values.append(p_value)\n",
    "\n",
    "# Adjust the significance level if needed\n",
    "alpha = 0.05\n",
    "\n",
    "# Find the index where the first significant p_value occurs (if any)\n",
    "shift_feature_indices = [i for i, p_val in enumerate(p_values) if p_val < alpha]\n",
    "if shift_feature_indices:\n",
    "    distribution_shift_index = shift_feature_indices[0]\n",
    "else:\n",
    "    distribution_shift_index = None\n",
    "    \n",
    "leaderboard_nickname = \"GenshinStartal\"\n",
    "\n",
    "distribution_shift_index\n",
    "\n",
    "#// END_TODO [SHIFT_DETECTION]\n"
   ]
  },
  {
   "cell_type": "markdown",
   "id": "c732213c",
   "metadata": {},
   "source": [
    "Run the following cell to create a file with your leaderboard submission."
   ]
  },
  {
   "cell_type": "code",
   "execution_count": 57,
   "id": "f79b4d7d",
   "metadata": {},
   "outputs": [],
   "source": [
    "if leaderboard_nickname is not None:\n",
    "    \n",
    "    # perform some sanity checks\n",
    "    assert isinstance(group_number, int), \"group_number is not an integer\"\n",
    "    assert isinstance(leaderboard_nickname, str), \"leaderboard_nickname is not a string\"\n",
    "    assert isinstance(distribution_shift_index, int), \"distribution_shift_index is not an integer\"\n",
    "\n",
    "    # export the solution to a .json file\n",
    "    with open(\"leaderboard_detection.json\", \"w\") as file:\n",
    "        json.dump({\n",
    "            \"group_number\": group_number,\n",
    "            \"leaderboard_nickname\": leaderboard_nickname,\n",
    "            \"distribution_shift_index\": distribution_shift_index\n",
    "        }, file)"
   ]
  },
  {
   "cell_type": "markdown",
   "id": "8ab6ece0",
   "metadata": {},
   "source": [
    "If all went well, a `leaderboard_detection.json` file should have been created in the same directory as this notebook."
   ]
  },
  {
   "cell_type": "markdown",
   "id": "ee2ad8fd",
   "metadata": {},
   "source": [
    "## Improve the predictive perfromance using any classifier\n",
    "\n",
    "Improve the F1 score of identifying whether a wafer contains a known faulty chip pattern or not relative to the `deployed_classifer` trained on the training set: "
   ]
  },
  {
   "cell_type": "code",
   "execution_count": 58,
   "id": "c57db702",
   "metadata": {},
   "outputs": [],
   "source": [
    "deployed_classifier.fit(X_train.reshape(-1, 26*26), y_train);"
   ]
  },
  {
   "cell_type": "markdown",
   "id": "5f7828f3",
   "metadata": {},
   "source": [
    "You are free to use any classifier you like, including the `deployed_classifier`. The performance of the improved classifier will be evaluated on unlabeld data inside `./data/wafer_leaderboard.pkl`."
   ]
  },
  {
   "cell_type": "code",
   "execution_count": 59,
   "id": "ddf511da",
   "metadata": {},
   "outputs": [],
   "source": [
    "with open('./data/wafer_leaderboard.pkl', 'rb') as f:\n",
    "    X_leaderboard = pickle.load(f)"
   ]
  },
  {
   "cell_type": "markdown",
   "id": "d63ea473",
   "metadata": {},
   "source": [
    "Use your improved classifier to you predict the labels for samples in `X_leaderboard`. Assign the predictions to variable `y_improved_classifier`. The variable `y_deployed_classifier` should be an `np.ndarray` with the same number of elements as `X_leaderboard`, and the predicted labels should follow the order corresponding to the samples in `X_leaderboard`.\n",
    "\n",
    "Assign a nickname to the string variable `leaderboard_nickname` that will be shown on the leaderboard next to your score. If you do not wat to participate on the leaderboard, set it to `None`."
   ]
  },
  {
   "cell_type": "code",
   "execution_count": 60,
   "id": "5ddb1c15",
   "metadata": {},
   "outputs": [],
   "source": [
    "#// BEGIN_TODO [PREDICTION]\n",
    "\n",
    "import pickle\n",
    "from sklearn.ensemble import RandomForestClassifier\n",
    "from sklearn.model_selection import GridSearchCV\n",
    "from sklearn.metrics import f1_score, make_scorer\n",
    "\n",
    "# Load the training data\n",
    "with open('./data/wafer_training.pkl', 'rb') as f:\n",
    "    X_train, y_train = pickle.load(f)\n",
    "\n",
    "# Load the leaderboard data\n",
    "with open('./data/wafer_leaderboard.pkl', 'rb') as f:\n",
    "    X_leaderboard = pickle.load(f)\n",
    "\n",
    "# Reshape the data\n",
    "X_train_flat = X_train.reshape(-1, 26*26)\n",
    "X_leaderboard_flat = X_leaderboard.reshape(-1, 26*26)\n",
    "\n",
    "# Initialize the classifier\n",
    "rf_classifier = RandomForestClassifier(random_state=42)\n",
    "\n",
    "# Define a scoring function\n",
    "f1_scorer = make_scorer(f1_score)\n",
    "\n",
    "# Set up hyperparameter grid for tuning\n",
    "param_grid = {\n",
    "    'n_estimators': [50, 100, 150],\n",
    "    'max_depth': [10, 15, 20],\n",
    "    'min_samples_split': [2, 4, 6],\n",
    "    'min_samples_leaf': [1, 2, 3]\n",
    "}\n",
    "\n",
    "# Perform grid search with cross-validation\n",
    "grid_search = GridSearchCV(estimator=rf_classifier, param_grid=param_grid, scoring=f1_scorer, cv=5)\n",
    "grid_search.fit(X_train_flat, y_train)\n",
    "\n",
    "# Extract the best estimator\n",
    "improved_classifier = grid_search.best_estimator_\n",
    "\n",
    "# Predict on the leaderboard data\n",
    "y_improved_classifier = improved_classifier.predict(X_leaderboard_flat)\n",
    "\n",
    "# Predict using the deployed_classifier\n",
    "deployed_classifier = RandomForestClassifier(random_state=42)  # Assuming the deployed_classifier is a RandomForest\n",
    "deployed_classifier.fit(X_train_flat, y_train)\n",
    "y_deployed_classifier = deployed_classifier.predict(X_leaderboard_flat)\n",
    "\n",
    "#// END_TODO [PREDICTION]"
   ]
  },
  {
   "cell_type": "code",
   "execution_count": 61,
   "id": "4a25860f",
   "metadata": {},
   "outputs": [
    {
     "data": {
      "text/plain": [
       "array([0, 0, 0, 0, 0, 0, 0, 0, 0, 0, 0, 0, 0, 0, 0, 0, 0, 0, 0, 0, 0, 0,\n",
       "       0, 0, 0, 0, 0, 0, 0, 1, 0, 0, 0, 0, 0, 1, 1, 0, 0, 0, 0, 0, 0, 0,\n",
       "       0, 0, 0, 0, 0, 0, 0, 0, 0, 0, 0, 0, 0, 0, 0, 0, 0, 0, 0, 0, 0, 0,\n",
       "       0, 0, 0, 0, 0, 0, 0, 0, 0, 0, 0, 0, 0, 0, 0, 0, 0, 0, 0, 0, 0, 0,\n",
       "       0, 0, 0, 0, 0, 0, 0, 0, 0, 0, 0, 0, 0, 0, 0, 0, 0, 0, 0, 0, 0, 0,\n",
       "       0, 0, 0, 0, 0, 0, 0, 0, 0, 0, 0, 0, 0, 0, 0, 0, 0, 0, 0, 0, 0, 0,\n",
       "       0, 0, 0, 0, 0, 0, 0, 0, 0, 0, 1, 0, 0, 0, 0, 0, 0, 0, 0, 0, 0, 1,\n",
       "       0, 0, 0, 0, 0, 0, 0, 0, 0, 1, 0, 0, 0, 0, 0, 0, 0, 0, 0, 0, 0, 0,\n",
       "       0, 0, 0, 0, 0, 0, 0, 0, 1, 0, 0, 0, 0, 0, 0, 1, 0, 0, 0, 0, 0, 1,\n",
       "       0, 0, 0, 0, 0, 0, 0, 0, 0, 0, 0, 0, 0, 0, 0, 0, 0, 0, 0, 0, 0, 0,\n",
       "       0, 0, 0, 0, 0, 0, 0, 0, 0, 0, 0, 0, 0, 0, 0, 0, 0, 0, 1, 0, 0, 0,\n",
       "       0, 0, 0, 0, 0, 0, 0, 0, 0, 0, 0, 0, 0, 0, 0, 0, 0, 0, 0, 0, 0, 0,\n",
       "       0, 0, 0, 0, 0, 0, 0, 0, 0, 0, 0, 0, 0, 0, 0, 0, 0, 0, 0, 0, 0, 0,\n",
       "       0, 0, 0, 0, 0, 0, 0, 0, 0, 0, 0, 0, 0, 0, 0, 0, 0, 0, 0, 0, 0, 0,\n",
       "       0, 0, 0, 0, 0, 0, 0, 0, 0, 0, 0, 0, 0, 0, 0, 0, 0, 0, 0, 0, 0, 0,\n",
       "       0, 0, 0, 0, 0, 0, 0, 0, 0, 0, 0, 0, 0, 0, 0, 0, 0, 0, 0, 0, 0, 0,\n",
       "       0, 0, 0, 0, 0, 0, 0, 0, 0, 0, 0, 0, 0, 0, 0, 0, 0, 0, 0, 0, 0, 0,\n",
       "       0, 0, 0, 0, 0, 0, 0, 0, 0, 0, 0, 0, 0, 0, 0, 0, 0, 0, 0, 0, 0, 0,\n",
       "       0, 0, 0, 0, 0, 0, 0, 0, 0, 0, 0, 0, 0, 0, 0, 0, 0, 0, 0, 0, 0, 0,\n",
       "       0, 0, 0, 0, 0, 0, 0, 0, 0, 0, 1, 0, 0, 0, 0, 0, 0, 0, 0, 0, 0, 0,\n",
       "       0, 0, 0, 0, 0, 0, 0, 0, 0, 0, 0, 0, 0, 0, 0, 0, 0, 0, 0, 0, 0, 0,\n",
       "       1, 0, 0, 0, 0, 0, 0, 0, 0, 0, 0, 0, 0, 0, 0, 0, 0, 0, 0, 0, 0, 0,\n",
       "       0, 0, 0, 0, 0, 0, 0, 1, 0, 0, 0, 0, 0, 0, 0, 0, 0, 0, 0, 0, 0, 0,\n",
       "       0, 0, 0, 0, 0, 0, 0, 1, 0, 0, 0, 0, 0, 0, 0, 0, 1, 0, 0, 0, 0, 0,\n",
       "       0, 0, 0, 0, 0, 0, 0, 0, 1, 0, 0, 0, 0, 0, 0, 0, 0, 0, 0, 0, 0, 0,\n",
       "       0, 0, 0, 0, 0, 0, 1, 0, 0, 0, 0, 0, 0, 0, 0, 0, 0, 0, 0, 0, 0, 0,\n",
       "       0, 0, 0, 0, 0, 0, 0, 0, 0, 0, 1, 0, 1, 0, 0, 0, 0, 0, 0, 0, 0, 0,\n",
       "       0, 0, 0, 0, 0, 0, 0, 0, 0, 0, 0, 0, 0, 0, 0, 0, 0, 0, 0, 0, 0, 0,\n",
       "       0, 0, 0, 0, 0, 0, 0, 0, 0, 0, 0, 0, 0, 0, 0, 0, 0, 0, 0, 0, 0, 0,\n",
       "       0, 0, 0, 0, 0, 0, 0, 0, 0, 0, 0, 0, 0, 0, 0, 0, 0, 0, 0, 0, 0, 0,\n",
       "       0, 0, 0, 0, 0, 0, 0, 0, 0, 0, 0, 0, 0, 0, 0, 0, 0, 0, 0, 0, 0, 0,\n",
       "       0, 0, 0, 0, 0, 0, 0, 0, 0, 0, 0, 0, 0, 0, 0, 0, 0, 0, 0, 0, 0, 0,\n",
       "       0, 0, 0, 0, 0, 0, 0, 0, 0, 0, 0, 0, 0, 0, 0, 0, 0, 0, 0, 0, 0, 0,\n",
       "       0, 0, 0, 0, 0, 0, 0, 0, 0, 0, 0, 0, 0, 0, 0, 0, 0, 0, 0, 0, 0, 0,\n",
       "       0, 0, 0, 0, 0, 0, 0, 0, 0, 0, 0, 0, 0, 1, 0, 0, 0, 0, 0, 0, 0, 0,\n",
       "       0, 0, 0, 0, 0, 0, 0, 0, 0, 0, 0, 0, 0, 0, 0, 0, 0, 0, 0, 0, 0, 0,\n",
       "       0, 0, 0, 0, 0, 0, 0, 0, 0, 0, 0, 0, 0, 0, 0, 0, 0, 0, 1, 0, 0, 0,\n",
       "       0, 0, 0, 0, 1, 0, 0, 0, 0, 0, 0, 0, 0, 0, 0, 0, 0, 0, 0, 0, 0, 0,\n",
       "       0, 0, 0, 0, 0, 0, 0, 0, 0, 0, 0, 0, 0, 0, 0, 0, 0, 0, 0, 0, 0, 0,\n",
       "       0, 0, 0, 0, 0, 0, 0, 0, 0, 0, 0, 0, 0, 0, 0, 0, 0, 0, 0, 0, 1, 1,\n",
       "       0, 0, 0, 0, 0, 0, 0, 0, 0, 0, 0, 0, 0, 0, 0, 0, 0, 0, 0, 0, 0, 0,\n",
       "       0, 0, 0, 0, 0, 0, 1, 0, 0, 0, 0, 0, 0, 0, 0, 0, 0, 0, 0, 0, 0, 0,\n",
       "       0, 0, 0, 0, 0, 0, 0, 0, 0, 1, 0, 0, 0, 0, 0, 0, 0, 0, 0, 0, 0, 0,\n",
       "       0, 1, 0, 0, 0, 0, 0, 0, 0, 0, 0, 0, 0, 0, 0, 0, 0, 0, 0, 0, 0, 0,\n",
       "       1, 0, 0, 0, 0, 0, 0, 1, 0, 0, 0, 0, 0, 0, 0, 0, 0, 0, 0, 0, 0, 0,\n",
       "       0, 0, 0, 0, 0, 0, 0, 0, 0, 0], dtype=int8)"
      ]
     },
     "execution_count": 61,
     "metadata": {},
     "output_type": "execute_result"
    }
   ],
   "source": [
    "y_deployed_classifier"
   ]
  },
  {
   "cell_type": "markdown",
   "id": "3c881830",
   "metadata": {},
   "source": [
    "Run the following cell to create a file with your leaderboard submission."
   ]
  },
  {
   "cell_type": "code",
   "execution_count": 62,
   "id": "88df8a46",
   "metadata": {},
   "outputs": [],
   "source": [
    "if leaderboard_nickname is not None:\n",
    "    \n",
    "    # perform some sanity checks\n",
    "    assert isinstance(group_number, int), \"group_number is not an integer\"\n",
    "    assert isinstance(leaderboard_nickname, str), \"leaderboard_nickname is not a string\"\n",
    "    assert isinstance(y_improved_classifier, np.ndarray), \"y_improved_classifier is not an np.ndarray\"\n",
    "    assert y_improved_classifier.shape[0] == X_leaderboard.shape[0], \"y_improved_classifier has wrong shape\"\n",
    "    assert y_improved_classifier.ndim == 1, \"y_improved_classifier is not an 1d-array\"\n",
    "\n",
    "    # export the solution to a .json file\n",
    "    with open(\"leaderboard_prediction.json\", \"w\") as file:\n",
    "        json.dump({\n",
    "            \"group_number\": group_number,\n",
    "            \"leaderboard_nickname\": leaderboard_nickname,\n",
    "            \"y_improved_classifier\": y_improved_classifier.tolist()\n",
    "        }, file)"
   ]
  },
  {
   "cell_type": "markdown",
   "id": "5263f7b3",
   "metadata": {},
   "source": [
    "If all went well, a `leaderboard_prediction.json` file should have been created in the same directory as this notebook."
   ]
  },
  {
   "cell_type": "markdown",
   "id": "73c1e555",
   "metadata": {},
   "source": [
    "# Feedback\n",
    "\n",
    "Please fill in this questionaire to help us improve this course for the next year. **Your feedback will be anonymized and will not affect your grade in any way!**"
   ]
  },
  {
   "cell_type": "markdown",
   "id": "f4323869",
   "metadata": {},
   "source": [
    "### How many hours did you spend on this assignment?\n",
    "\n",
    "Assign a number to variable `feedback_time`."
   ]
  },
  {
   "cell_type": "code",
   "execution_count": 63,
   "id": "7e209271",
   "metadata": {},
   "outputs": [
    {
     "ename": "NameError",
     "evalue": "name 'feedback_time' is not defined",
     "output_type": "error",
     "traceback": [
      "\u001b[0;31m---------------------------------------------------------------------------\u001b[0m",
      "\u001b[0;31mNameError\u001b[0m                                 Traceback (most recent call last)",
      "Cell \u001b[0;32mIn[63], line 6\u001b[0m\n\u001b[1;32m      1\u001b[0m \u001b[38;5;66;03m#// BEGIN_FEEDBACK [Feedback_1] (0 points)\u001b[39;00m\n\u001b[1;32m      2\u001b[0m \n\u001b[1;32m      3\u001b[0m \u001b[38;5;66;03m#// END_FEEDBACK [Feedback_1]\u001b[39;00m\n\u001b[1;32m      5\u001b[0m \u001b[38;5;28;01mimport\u001b[39;00m \u001b[38;5;21;01mnumbers\u001b[39;00m\n\u001b[0;32m----> 6\u001b[0m \u001b[38;5;28;01massert\u001b[39;00m \u001b[38;5;28misinstance\u001b[39m(\u001b[43mfeedback_time\u001b[49m, numbers\u001b[38;5;241m.\u001b[39mNumber), \u001b[38;5;124m\"\u001b[39m\u001b[38;5;124mPlease assign a number to variable feedback_time\u001b[39m\u001b[38;5;124m\"\u001b[39m\n",
      "\u001b[0;31mNameError\u001b[0m: name 'feedback_time' is not defined"
     ]
    }
   ],
   "source": [
    "#// BEGIN_FEEDBACK [Feedback_1] (0 points)\n",
    "feedback_time = 24\n",
    "#// END_FEEDBACK [Feedback_1]\n",
    "\n",
    "import numbers\n",
    "assert isinstance(feedback_time, numbers.Number), \"Please assign a number to variable feedback_time\""
   ]
  },
  {
   "cell_type": "markdown",
   "id": "92df9e1a",
   "metadata": {},
   "source": [
    "### How difficult did you find this assignment?\n",
    "\n",
    "Assign an integer to variable `feedback_difficulty`, on a scale 0 - 10, with 0 being very easy, 5 being just right, and 10 being very difficult."
   ]
  },
  {
   "cell_type": "code",
   "execution_count": null,
   "id": "c44da128",
   "metadata": {},
   "outputs": [],
   "source": [
    "#// BEGIN_FEEDBACK [Feedback_2] (0 points)\n",
    "feedback_difficulty = 7\n",
    "\n",
    "#// END_FEEDBACK [Feedback_2]\n",
    "\n",
    "assert isinstance(feedback_difficulty, numbers.Number), \"Please assign a number to variable feedback_difficulty\""
   ]
  },
  {
   "cell_type": "markdown",
   "id": "e3790e84",
   "metadata": {},
   "source": [
    "### Did you use a Large Language Model (LLM) to help you with this and/or the Calibration assignment? If so, how were they useful?\n",
    "\n",
    "We are curious to learn how LLMs are used for study, so that we can adapt what and how we teach.\n",
    "\n",
    "Assign a string to variable `feedback_llm` describing how you used LLMs for solving the assignments (e.g. you can name several useful prompts), and any insights you may like to share. If you did not use an LLM, assign `None` to `feedback_llm`."
   ]
  },
  {
   "cell_type": "code",
   "execution_count": null,
   "id": "78831b99",
   "metadata": {},
   "outputs": [],
   "source": [
    "#// BEGIN_FEEDBACK [Feedback_3] (0 points)\n",
    "\n",
    "#// END_FEEDBACK [Feedback_3]"
   ]
  },
  {
   "cell_type": "markdown",
   "id": "155f655d",
   "metadata": {},
   "source": [
    "### (Optional) What did you like?\n",
    "\n",
    "Assign a string to variable `feedback_like`."
   ]
  },
  {
   "cell_type": "code",
   "execution_count": null,
   "id": "ce04ff18",
   "metadata": {},
   "outputs": [],
   "source": [
    "#// BEGIN_FEEDBACK [Feedback_4] (0 points)\n",
    "\n",
    "#// END_FEEDBACK [Feedback_4]"
   ]
  },
  {
   "cell_type": "markdown",
   "id": "e0b74a0b",
   "metadata": {},
   "source": [
    "### (Optional) What can be improved?\n",
    "\n",
    "Assign a string to variable `feedback_improve`. Please be specific, so that we can act on your feedback."
   ]
  },
  {
   "cell_type": "code",
   "execution_count": null,
   "id": "09c79c04",
   "metadata": {},
   "outputs": [],
   "source": [
    "#// BEGIN_FEEDBACK [Feedback_5] (0 points)\n",
    "\n",
    "#// END_FEEDBACK [Feedback_5]"
   ]
  }
 ],
 "metadata": {
  "hide_input": false,
  "kernelspec": {
   "display_name": "Python 3",
   "language": "python",
   "name": "python3"
  },
  "language_info": {
   "codemirror_mode": {
    "name": "ipython",
    "version": 3
   },
   "file_extension": ".py",
   "mimetype": "text/x-python",
   "name": "python",
   "nbconvert_exporter": "python",
   "pygments_lexer": "ipython3",
   "version": "3.10.12"
  },
  "toc": {
   "base_numbering": 1,
   "nav_menu": {},
   "number_sections": false,
   "sideBar": true,
   "skip_h1_title": false,
   "title_cell": "Table of Contents",
   "title_sidebar": "Contents",
   "toc_cell": false,
   "toc_position": {},
   "toc_section_display": true,
   "toc_window_display": true
  },
  "vscode": {
   "interpreter": {
    "hash": "ba20fe46d2481c29bc680d8888619772c67e04db6a826d4628f72709e6371144"
   }
  }
 },
 "nbformat": 4,
 "nbformat_minor": 5
}
